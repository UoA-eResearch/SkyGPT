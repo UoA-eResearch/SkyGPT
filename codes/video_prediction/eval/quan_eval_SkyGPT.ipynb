{
 "cells": [
  {
   "cell_type": "code",
   "execution_count": 1,
   "metadata": {
    "collapsed": true
   },
   "outputs": [],
   "source": [
    "# import libraries\n",
    "from tensorflow import keras\n",
    "import numpy as np\n",
    "import os\n",
    "import time\n",
    "import datetime\n",
    "import h5py\n",
    "import random\n",
    "from scipy import spatial\n",
    "import cv2\n",
    "import matplotlib.pyplot as plt\n",
    "%matplotlib inline"
   ]
  },
  {
   "cell_type": "code",
   "execution_count": 2,
   "metadata": {},
   "outputs": [
    {
     "name": "stdout",
     "output_type": "stream",
     "text": [
      "data_folder: /scratch/groups/abrandt/solar_forecasting/GAN_project_new/data\n",
      "data_path: /scratch/groups/abrandt/solar_forecasting/GAN_project_new/data/dataset_all/video_prediction_dataset.hdf5\n"
     ]
    }
   ],
   "source": [
    "# define the data location and load data\n",
    "cwd = os.getcwd()\n",
    "pardir = os.path.dirname(cwd)\n",
    "data_folder = os.path.join(pardir,\"data\")\n",
    "output_folder = os.path.join(pardir, \"results\", \"video_pred_quan_eval_results\")\n",
    "data_path = os.path.join(data_folder,'video_prediction_dataset.hdf5')\n",
    "\n",
    "print(\"data_folder:\", data_folder)\n",
    "print(\"data_path:\", data_path)"
   ]
  },
  {
   "cell_type": "code",
   "execution_count": 3,
   "metadata": {},
   "outputs": [
    {
     "name": "stdout",
     "output_type": "stream",
     "text": [
      "times_test.shape: (4467,)\n",
      "images_pred_test.shape: (4467, 8, 64, 64, 3)\n"
     ]
    }
   ],
   "source": [
    "# load testing data\n",
    "times_test = np.load(os.path.join(data_folder,\"dataset_all\",\"times_curr_test.npy\"),allow_pickle=True)\n",
    "print(\"times_test.shape:\", times_test.shape)\n",
    "\n",
    "with h5py.File(data_path,'r') as f:\n",
    "\n",
    "    # read in the ground_truth data\n",
    "    #images_log_test = f['test']['images_log'][...]\n",
    "    images_pred_test = f['test']['images_pred'][:,::2,:,:,:]\n",
    "\n",
    "#print(\"images_log_test.shape:\",images_log_test.shape)\n",
    "print(\"images_pred_test.shape:\",images_pred_test.shape)"
   ]
  },
  {
   "cell_type": "code",
   "execution_count": 4,
   "metadata": {
    "collapsed": true
   },
   "outputs": [],
   "source": [
    "# mask out img background\n",
    "def mask_background(img): # put all background pixels to 0s\n",
    "    mask_img = img.copy()\n",
    "    for i in range(64):\n",
    "        for j in range(64):\n",
    "            if (i-30)**2+(j-30)**2>=31**2:\n",
    "                mask_img[:,:,i,j,:]=0\n",
    "    return mask_img"
   ]
  },
  {
   "cell_type": "code",
   "execution_count": 5,
   "metadata": {},
   "outputs": [
    {
     "name": "stdout",
     "output_type": "stream",
     "text": [
      "(4467, 8, 64, 64, 3)\n"
     ]
    }
   ],
   "source": [
    "# mask out the background\n",
    "mask_images_pred_test = mask_background(images_pred_test)\n",
    "mask_images_pred_test = mask_images_pred_test.astype('float32')/255\n",
    "print(mask_images_pred_test.shape)"
   ]
  },
  {
   "cell_type": "code",
   "execution_count": 8,
   "metadata": {},
   "outputs": [
    {
     "name": "stdout",
     "output_type": "stream",
     "text": [
      "Model: \"vgg16\"\n",
      "_________________________________________________________________\n",
      "Layer (type)                 Output Shape              Param #   \n",
      "=================================================================\n",
      "input_2 (InputLayer)         [(None, 224, 224, 3)]     0         \n",
      "_________________________________________________________________\n",
      "block1_conv1 (Conv2D)        (None, 224, 224, 64)      1792      \n",
      "_________________________________________________________________\n",
      "block1_conv2 (Conv2D)        (None, 224, 224, 64)      36928     \n",
      "_________________________________________________________________\n",
      "block1_pool (MaxPooling2D)   (None, 112, 112, 64)      0         \n",
      "_________________________________________________________________\n",
      "block2_conv1 (Conv2D)        (None, 112, 112, 128)     73856     \n",
      "_________________________________________________________________\n",
      "block2_conv2 (Conv2D)        (None, 112, 112, 128)     147584    \n",
      "_________________________________________________________________\n",
      "block2_pool (MaxPooling2D)   (None, 56, 56, 128)       0         \n",
      "_________________________________________________________________\n",
      "block3_conv1 (Conv2D)        (None, 56, 56, 256)       295168    \n",
      "_________________________________________________________________\n",
      "block3_conv2 (Conv2D)        (None, 56, 56, 256)       590080    \n",
      "_________________________________________________________________\n",
      "block3_conv3 (Conv2D)        (None, 56, 56, 256)       590080    \n",
      "_________________________________________________________________\n",
      "block3_pool (MaxPooling2D)   (None, 28, 28, 256)       0         \n",
      "_________________________________________________________________\n",
      "block4_conv1 (Conv2D)        (None, 28, 28, 512)       1180160   \n",
      "_________________________________________________________________\n",
      "block4_conv2 (Conv2D)        (None, 28, 28, 512)       2359808   \n",
      "_________________________________________________________________\n",
      "block4_conv3 (Conv2D)        (None, 28, 28, 512)       2359808   \n",
      "_________________________________________________________________\n",
      "block4_pool (MaxPooling2D)   (None, 14, 14, 512)       0         \n",
      "_________________________________________________________________\n",
      "block5_conv1 (Conv2D)        (None, 14, 14, 512)       2359808   \n",
      "_________________________________________________________________\n",
      "block5_conv2 (Conv2D)        (None, 14, 14, 512)       2359808   \n",
      "_________________________________________________________________\n",
      "block5_conv3 (Conv2D)        (None, 14, 14, 512)       2359808   \n",
      "_________________________________________________________________\n",
      "block5_pool (MaxPooling2D)   (None, 7, 7, 512)         0         \n",
      "_________________________________________________________________\n",
      "flatten (Flatten)            (None, 25088)             0         \n",
      "_________________________________________________________________\n",
      "fc1 (Dense)                  (None, 4096)              102764544 \n",
      "_________________________________________________________________\n",
      "fc2 (Dense)                  (None, 4096)              16781312  \n",
      "_________________________________________________________________\n",
      "predictions (Dense)          (None, 1000)              4097000   \n",
      "=================================================================\n",
      "Total params: 138,357,544\n",
      "Trainable params: 138,357,544\n",
      "Non-trainable params: 0\n",
      "_________________________________________________________________\n"
     ]
    }
   ],
   "source": [
    "# calculate VGG cosine similarity\n",
    "vgg16 = keras.applications.VGG16(weights='imagenet',include_top=True,pooling='max',input_shape=(224,224,3))\n",
    "vgg16.summary()"
   ]
  },
  {
   "cell_type": "code",
   "execution_count": 9,
   "metadata": {
    "collapsed": true
   },
   "outputs": [],
   "source": [
    "basemodel=keras.Model(inputs=vgg16.input,outputs=keras.layers.Flatten()(vgg16.get_layer('block4_pool').output))"
   ]
  },
  {
   "cell_type": "code",
   "execution_count": 10,
   "metadata": {
    "collapsed": true
   },
   "outputs": [],
   "source": [
    "def get_feature_vector(img):\n",
    "    \n",
    "    img1 = img.reshape(-1,224,224,3)\n",
    "    feature_vector = np.zeros((img1.shape[0],basemodel.output.shape[-1]))\n",
    "    batch_size = 100\n",
    "    num_samples = img1.shape[0]\n",
    "    indices = np.arange(num_samples)\n",
    "    for i in range(int(num_samples / batch_size) + 1):\n",
    "    \n",
    "        start_idx = (i * batch_size) % num_samples\n",
    "        idxs = indices[start_idx:start_idx + batch_size]\n",
    "        feature_vector[idxs] = basemodel.predict(img1[idxs])\n",
    "    \n",
    "    feature_vector=feature_vector.reshape((img.shape[0],img.shape[1],basemodel.output.shape[-1]))\n",
    "    return feature_vector"
   ]
  },
  {
   "cell_type": "code",
   "execution_count": 16,
   "metadata": {
    "collapsed": true
   },
   "outputs": [],
   "source": [
    "mask_images_pred_test_resized = np.zeros((images_pred_test.shape[0],images_pred_test.shape[1],224,224,3))\n",
    "for i in range(images_pred_test.shape[0]):\n",
    "    for j in range(images_pred_test.shape[1]):\n",
    "        mask_images_pred_test_resized[i,j] = cv2.resize(mask_images_pred_test[i,j],(224,224))\n",
    "feature_vector_gt_test = (get_feature_vector(mask_images_pred_test_resized*255)).astype('float32')"
   ]
  },
  {
   "cell_type": "code",
   "execution_count": 17,
   "metadata": {
    "collapsed": true
   },
   "outputs": [],
   "source": [
    "def calculate_cosine_similarity(vector1, vector2):\n",
    "    cosine_similarity = 1-spatial.distance.cosine(vector1,vector2)\n",
    "    return cosine_similarity"
   ]
  },
  {
   "cell_type": "markdown",
   "metadata": {},
   "source": [
    "### Evaluation of model performance quantitatively"
   ]
  },
  {
   "cell_type": "markdown",
   "metadata": {},
   "source": [
    "### SkyGPT"
   ]
  },
  {
   "cell_type": "code",
   "execution_count": 13,
   "metadata": {
    "collapsed": true
   },
   "outputs": [],
   "source": [
    "# video prediction models for predicted images\n",
    "def loadData(samp_num, vp_model, vp_model_folder):\n",
    "\n",
    "    print(\"vp_model_folder:\", vp_model_folder)\n",
    "\n",
    "    # load predicted images\n",
    "    predicted_images = np.load(os.path.join(vp_model_folder,samp_num))[:,8:, :, :, :]\n",
    "    # scale back all the pixel values back to [0,1] with clipping\n",
    "    predicted_images = np.clip(predicted_images,-0.5,0.5)+0.5\n",
    "    # scale back the pixel values to [0,255]\n",
    "    #predicted_images = (predicted_images*255).astype('int')\n",
    "    # mask out the background\n",
    "    predicted_images = mask_background(predicted_images.astype('float32'))\n",
    "    \n",
    "    predicted_images_resized = np.zeros((predicted_images.shape[0],predicted_images.shape[1],224,224,3))\n",
    "    for i in range(predicted_images.shape[0]):\n",
    "        for j in range(predicted_images.shape[1]):\n",
    "            predicted_images_resized[i,j] = cv2.resize(predicted_images[i,j],(224,224))\n",
    "    feature_vector_pred_test = (get_feature_vector(predicted_images_resized*255)).astype('float32')\n",
    "    print(\"predicted_images.shape:\",predicted_images.shape)\n",
    "    print(\"feature_vector_pred_test.shape:\",feature_vector_pred_test.shape)\n",
    "    \n",
    "    return predicted_images, feature_vector_pred_test\n"
   ]
  },
  {
   "cell_type": "code",
   "execution_count": 14,
   "metadata": {
    "collapsed": true
   },
   "outputs": [],
   "source": [
    "def metrics(predicted_images, images_pred_test, feature_vector_gt, feature_vector_pred):    \n",
    "    mse_per_frame = np.mean(np.sum((predicted_images-images_pred_test)**2,axis=(2,3,4)),axis=0)\n",
    "    mae_per_frame = np.mean(np.sum(np.abs(predicted_images-images_pred_test),axis=(2,3,4)),axis=0)\n",
    "    ssim_per_frame = np.zeros((images_pred_test.shape[0],images_pred_test.shape[1]))\n",
    "    cosine_similarity_per_frame = np.zeros((images_pred_test.shape[0],images_pred_test.shape[1]))\n",
    "    \n",
    "    for i in range(images_pred_test.shape[0]):\n",
    "        for j in range(images_pred_test.shape[1]):\n",
    "            ssim_per_frame[i,j] = ssim(images_pred_test[i,j], predicted_images[i,j], multichannel=True)\n",
    "            \n",
    "            # calcuate vgg cosine similarity\n",
    "            cosine_similarity_per_frame[i,j] = calculate_cosine_similarity(feature_vector_gt[i,j],feature_vector_pred[i,j])\n",
    "        \n",
    "    ssim_per_frame = np.mean(ssim_per_frame, axis=0)\n",
    "    cosine_similarity_per_frame = np.mean(cosine_similarity_per_frame, axis=0)\n",
    "    \n",
    "    np.save(os.path.join(output_folder,'SkyGPT_4x4x4_mse_avg'),mse_per_frame)\n",
    "    #np.save(os.path.join(output_folder,'SkyGPT_4x4x4_mae_avg'),mae_per_frame)\n",
    "    #np.save(os.path.join(output_folder,'SkyGPT_4x4x4_ssim_avg'),ssim_per_frame)\n",
    "    np.save(os.path.join(output_folder,'SkyGPT_4x4x4_cosine_similarity_avg_block4_pool'),cosine_similarity_per_frame)\n",
    "    \n",
    "    for j in range(images_pred_test.shape[1]):\n",
    "        print('-'*50)\n",
    "        print('evaluation for {0} min'.format(j*2+1))\n",
    "        print('mse (frame-wise): ', mse_per_frame[j])\n",
    "        print('mae (frame-wise): ', mae_per_frame[j])\n",
    "        print('ssim: ', ssim_per_frame[j])\n",
    "        print('cosine_similarity: ', cosine_similarity_per_frame[j])\n",
    "\n",
    "    print(\"*\"*50)\n",
    "    print('overall performance:')\n",
    "    print('mse (frame-wise): ', np.mean(mse_per_frame))\n",
    "    print('mae (frame-wise): ', np.mean(mae_per_frame))\n",
    "    print('ssim: ', np.mean(ssim_per_frame))\n",
    "    print('cosine_similarity: ', np.mean(cosine_similarity_per_frame))"
   ]
  },
  {
   "cell_type": "code",
   "execution_count": 15,
   "metadata": {
    "collapsed": true
   },
   "outputs": [],
   "source": [
    "from tqdm.notebook import tqdm\n",
    "\n",
    "def metrics_batch(predicted_images, images_pred_test, feature_vector_gt, feature_vector_pred):\n",
    "    mse_per_frame = np.mean(\n",
    "        np.min(\n",
    "            np.sum(\n",
    "                (predicted_images-images_pred_test[None])**2,\n",
    "                axis=(3,4,5)\n",
    "                ),\n",
    "            axis=0),\n",
    "        axis=0\n",
    "    )\n",
    "    mae_per_frame = np.mean(\n",
    "        np.min(\n",
    "            np.sum(\n",
    "                np.abs(predicted_images-images_pred_test[None]),\n",
    "                axis=(3,4,5)\n",
    "            ),\n",
    "        axis=0),\n",
    "    axis=0)\n",
    "    \n",
    "    cosine_similarity_per_frame = np.zeros((predicted_images.shape[0],images_pred_test.shape[0],images_pred_test.shape[1]))\n",
    "    \n",
    "    for i in range(images_pred_test.shape[0]):\n",
    "        for j in range(images_pred_test.shape[1]):\n",
    "            for k in range(predicted_images.shape[0]):\n",
    "                cosine_similarity_per_frame[k,i,j] = calculate_cosine_similarity(feature_vector_gt[i,j],feature_vector_pred[k,i,j])\n",
    "\n",
    "    cosine_similarity_on_time_step = np.mean(np.max(cosine_similarity_per_frame, axis=0),axis=0)\n",
    "    \n",
    "    # take mean across all time stamps\n",
    "    cosine_similarity_per_frame_mean = np.mean(cosine_similarity_per_frame, axis=2)\n",
    "    \n",
    "    # find the best match across all 10 samplings and take the mean of every sample\n",
    "    cosine_similarity_per_frame_mean = np.mean(np.max(cosine_similarity_per_frame_mean,axis=0),axis=0)\n",
    "    \n",
    "    # find the index of the best/worst match across 10 samplings for every sample\n",
    "    best_match_img_index = np.argmax(cosine_similarity_per_frame_mean,axis=0)\n",
    "    worst_match_img_index = np.argmin(cosine_similarity_per_frame_mean,axis=0)\n",
    "    \n",
    "    np.save(os.path.join(output_folder,'SkyGPT_4x4x4_mse_min'),mse_per_frame)\n",
    "    np.save(os.path.join(output_folder,'SkyGPT_4x4x4_mae_min'),mae_per_frame)\n",
    "    np.save(os.path.join(output_folder,'SkyGPT_4x4x4_cosine_similarity_max_block4pool'),cosine_similarity_on_time_step)\n",
    "    np.save(os.path.join(output_folder,'best_match_img_index_based_on_cosine_similarity_among_10sampling_SkyGPT_4x4x4_block4_pool_features.npy'), best_match_img_index)\n",
    "    np.save(os.path.join(output_folder,'worst_match_img_index_based_on_cosine_similarity_among_10sampling_SkyGPT_4x4x4_block4_pool_features.npy'), worst_match_img_index)\n",
    "    \n",
    "    for j in range(images_pred_test.shape[1]):\n",
    "        print('-'*50)\n",
    "        print('evaluation for {0} min'.format(j*2+1))\n",
    "        print('mse (frame-wise): ', mse_per_frame[j])\n",
    "        print('mae (frame-wise): ', mae_per_frame[j])\n",
    "        print('cosine_similarity: ', cosine_similarity_on_time_step[j])\n",
    "        \n",
    "    print(\"*\"*50)\n",
    "    print('overall performance:')\n",
    "    print('mse (frame-wise): ', np.mean(mse_per_frame))\n",
    "    print('mae (frame-wise): ', np.mean(mae_per_frame))\n",
    "    print('cosine_similarity: ', np.mean(cosine_similarity_on_time_step))\n",
    "    \n",
    "    return cosine_similarity_per_frame, best_match_img_index, worst_match_img_index"
   ]
  },
  {
   "cell_type": "code",
   "execution_count": 16,
   "metadata": {
    "scrolled": true
   },
   "outputs": [
    {
     "name": "stdout",
     "output_type": "stream",
     "text": [
      "(4467, 8, 64, 64, 3)\n",
      "Sample #:  sample_1637223777647.npy\n",
      "vp_model_folder: /scratch/groups/abrandt/solar_forecasting/GAN_project_new/models/VideoGPT/inference/PhyGPT_full_2min_4x4x4\n",
      "predicted_images.shape: (4467, 8, 64, 64, 3)\n",
      "feature_vector_pred_test.shape: (4467, 8, 100352)\n",
      "Sample #:  sample_1637220835372.npy\n",
      "vp_model_folder: /scratch/groups/abrandt/solar_forecasting/GAN_project_new/models/VideoGPT/inference/PhyGPT_full_2min_4x4x4\n",
      "predicted_images.shape: (4467, 8, 64, 64, 3)\n",
      "feature_vector_pred_test.shape: (4467, 8, 100352)\n",
      "Sample #:  sample_1637220668023.npy\n",
      "vp_model_folder: /scratch/groups/abrandt/solar_forecasting/GAN_project_new/models/VideoGPT/inference/PhyGPT_full_2min_4x4x4\n",
      "predicted_images.shape: (4467, 8, 64, 64, 3)\n",
      "feature_vector_pred_test.shape: (4467, 8, 100352)\n",
      "Sample #:  sample_1637223937443.npy\n",
      "vp_model_folder: /scratch/groups/abrandt/solar_forecasting/GAN_project_new/models/VideoGPT/inference/PhyGPT_full_2min_4x4x4\n",
      "predicted_images.shape: (4467, 8, 64, 64, 3)\n",
      "feature_vector_pred_test.shape: (4467, 8, 100352)\n",
      "Sample #:  sample_1637220916691.npy\n",
      "vp_model_folder: /scratch/groups/abrandt/solar_forecasting/GAN_project_new/models/VideoGPT/inference/PhyGPT_full_2min_4x4x4\n",
      "predicted_images.shape: (4467, 8, 64, 64, 3)\n",
      "feature_vector_pred_test.shape: (4467, 8, 100352)\n",
      "Sample #:  sample_1637223728101.npy\n",
      "vp_model_folder: /scratch/groups/abrandt/solar_forecasting/GAN_project_new/models/VideoGPT/inference/PhyGPT_full_2min_4x4x4\n",
      "predicted_images.shape: (4467, 8, 64, 64, 3)\n",
      "feature_vector_pred_test.shape: (4467, 8, 100352)\n",
      "Sample #:  sample_1637223988406.npy\n",
      "vp_model_folder: /scratch/groups/abrandt/solar_forecasting/GAN_project_new/models/VideoGPT/inference/PhyGPT_full_2min_4x4x4\n",
      "predicted_images.shape: (4467, 8, 64, 64, 3)\n",
      "feature_vector_pred_test.shape: (4467, 8, 100352)\n",
      "Sample #:  sample_1637220809640.npy\n",
      "vp_model_folder: /scratch/groups/abrandt/solar_forecasting/GAN_project_new/models/VideoGPT/inference/PhyGPT_full_2min_4x4x4\n",
      "predicted_images.shape: (4467, 8, 64, 64, 3)\n",
      "feature_vector_pred_test.shape: (4467, 8, 100352)\n",
      "Sample #:  sample_1637220753170.npy\n",
      "vp_model_folder: /scratch/groups/abrandt/solar_forecasting/GAN_project_new/models/VideoGPT/inference/PhyGPT_full_2min_4x4x4\n",
      "predicted_images.shape: (4467, 8, 64, 64, 3)\n",
      "feature_vector_pred_test.shape: (4467, 8, 100352)\n",
      "Sample #:  sample_1637224016074.npy\n",
      "vp_model_folder: /scratch/groups/abrandt/solar_forecasting/GAN_project_new/models/VideoGPT/inference/PhyGPT_full_2min_4x4x4\n",
      "predicted_images.shape: (4467, 8, 64, 64, 3)\n",
      "feature_vector_pred_test.shape: (4467, 8, 100352)\n"
     ]
    }
   ],
   "source": [
    "#loop over all samples\n",
    "vp_model_folder = '/scratch/groups/abrandt/solar_forecasting/GAN_project_new/models/VideoGPT/inference/SkyGPT_full_2min_4x4x4'\n",
    "samp_array = os.listdir(vp_model_folder)\n",
    "samp_array = np.asarray(samp_array)[['sample' in samp for samp in samp_array]]\n",
    "print(images_pred_test.shape)\n",
    "\n",
    "predicted_images_batch = []\n",
    "feature_vector_pred_test_batch = []\n",
    "\n",
    "for samp_num in samp_array:\n",
    "    if len(samp_num.split('.'))==2:\n",
    "        vp_model = \"SkyGPT_2min_4x4x4_\" + samp_num\n",
    "\n",
    "        print('Sample #: ', samp_num)\n",
    "        predicted_images, feature_vector_pred_test = loadData(samp_num, vp_model, vp_model_folder)\n",
    "        predicted_images_batch.append(predicted_images.astype('float32'))\n",
    "        feature_vector_pred_test_batch.append(feature_vector_pred_test)"
   ]
  },
  {
   "cell_type": "code",
   "execution_count": 22,
   "metadata": {
    "scrolled": true
   },
   "outputs": [
    {
     "name": "stdout",
     "output_type": "stream",
     "text": [
      "--------------------------------------------------\n",
      "evaluation for 1 min\n",
      "mse (frame-wise):  29.457476\n",
      "mae (frame-wise):  328.25455\n",
      "ssim:  0.8797790675196445\n",
      "cosine_similarity:  0.762326207034455\n",
      "--------------------------------------------------\n",
      "evaluation for 3 min\n",
      "mse (frame-wise):  42.16947\n",
      "mae (frame-wise):  395.97812\n",
      "ssim:  0.8491638853461537\n",
      "cosine_similarity:  0.7445709356825064\n",
      "--------------------------------------------------\n",
      "evaluation for 5 min\n",
      "mse (frame-wise):  52.70917\n",
      "mae (frame-wise):  443.44574\n",
      "ssim:  0.8291056422091154\n",
      "cosine_similarity:  0.7312985944126126\n",
      "--------------------------------------------------\n",
      "evaluation for 7 min\n",
      "mse (frame-wise):  60.507515\n",
      "mae (frame-wise):  479.59885\n",
      "ssim:  0.8165373222712371\n",
      "cosine_similarity:  0.7211482022762405\n",
      "--------------------------------------------------\n",
      "evaluation for 9 min\n",
      "mse (frame-wise):  66.075165\n",
      "mae (frame-wise):  500.84088\n",
      "ssim:  0.807376802888151\n",
      "cosine_similarity:  0.712467585730558\n",
      "--------------------------------------------------\n",
      "evaluation for 11 min\n",
      "mse (frame-wise):  71.60839\n",
      "mae (frame-wise):  525.144\n",
      "ssim:  0.7982190101493932\n",
      "cosine_similarity:  0.706524172444618\n",
      "--------------------------------------------------\n",
      "evaluation for 13 min\n",
      "mse (frame-wise):  74.420166\n",
      "mae (frame-wise):  538.1836\n",
      "ssim:  0.7933197725878885\n",
      "cosine_similarity:  0.7024485813055579\n",
      "--------------------------------------------------\n",
      "evaluation for 15 min\n",
      "mse (frame-wise):  75.79123\n",
      "mae (frame-wise):  548.95087\n",
      "ssim:  0.7901929930128228\n",
      "cosine_similarity:  0.6978505353266317\n",
      "**************************************************\n",
      "overall performance:\n",
      "mse (frame-wise):  59.092323\n",
      "mae (frame-wise):  470.04956\n",
      "ssim:  0.8204618119980508\n",
      "cosine_similarity:  0.7223293517766476\n"
     ]
    }
   ],
   "source": [
    "cosine_similarity, closest_img_index, worst_match_img_index = metrics_batch(np.stack(predicted_images_batch), mask_images_pred_test, feature_vector_gt_test, np.stack(feature_vector_pred_test_batch))"
   ]
  },
  {
   "cell_type": "code",
   "execution_count": 23,
   "metadata": {
    "scrolled": true
   },
   "outputs": [
    {
     "name": "stdout",
     "output_type": "stream",
     "text": [
      "--------------------------------------------------\n",
      "evaluation for 1 min\n",
      "mse (frame-wise):  27.776663\n",
      "mae (frame-wise):  327.86334\n",
      "ssim:  0.8868968508135886\n",
      "cosine_similarity:  0.7940797558801137\n",
      "--------------------------------------------------\n",
      "evaluation for 3 min\n",
      "mse (frame-wise):  41.279846\n",
      "mae (frame-wise):  404.74927\n",
      "ssim:  0.8567342504290391\n",
      "cosine_similarity:  0.78322625836724\n",
      "--------------------------------------------------\n",
      "evaluation for 5 min\n",
      "mse (frame-wise):  54.971214\n",
      "mae (frame-wise):  463.6721\n",
      "ssim:  0.8347877488897169\n",
      "cosine_similarity:  0.7728684017635283\n",
      "--------------------------------------------------\n",
      "evaluation for 7 min\n",
      "mse (frame-wise):  65.65722\n",
      "mae (frame-wise):  511.33798\n",
      "ssim:  0.8205330465599966\n",
      "cosine_similarity:  0.7635067370958928\n",
      "--------------------------------------------------\n",
      "evaluation for 9 min\n",
      "mse (frame-wise):  71.619\n",
      "mae (frame-wise):  531.87335\n",
      "ssim:  0.8132021323322705\n",
      "cosine_similarity:  0.7592612222814442\n",
      "--------------------------------------------------\n",
      "evaluation for 11 min\n",
      "mse (frame-wise):  77.26163\n",
      "mae (frame-wise):  557.164\n",
      "ssim:  0.8054945666344566\n",
      "cosine_similarity:  0.7565379800587285\n",
      "--------------------------------------------------\n",
      "evaluation for 13 min\n",
      "mse (frame-wise):  81.49267\n",
      "mae (frame-wise):  573.32764\n",
      "ssim:  0.8002025495187665\n",
      "cosine_similarity:  0.7535286375159035\n",
      "--------------------------------------------------\n",
      "evaluation for 15 min\n",
      "mse (frame-wise):  83.32565\n",
      "mae (frame-wise):  587.3875\n",
      "ssim:  0.7963043440241483\n",
      "cosine_similarity:  0.7482686908233879\n",
      "**************************************************\n",
      "overall performance:\n",
      "mse (frame-wise):  62.92299\n",
      "mae (frame-wise):  494.67188\n",
      "ssim:  0.8267694361502479\n",
      "cosine_similarity:  0.7664097104732799\n"
     ]
    }
   ],
   "source": [
    "metrics(np.stack(predicted_images_batch).mean(0), mask_images_pred_test,feature_vector_gt_test,np.stack(feature_vector_pred_test_batch).mean(0))"
   ]
  },
  {
   "cell_type": "code",
   "execution_count": 24,
   "metadata": {
    "collapsed": true
   },
   "outputs": [],
   "source": [
    "predicted_images_batch_stacked = np.stack(predicted_images_batch)\n",
    "feature_vector_pred_test_batch_stacked = np.stack(feature_vector_pred_test_batch)"
   ]
  },
  {
   "cell_type": "code",
   "execution_count": 21,
   "metadata": {
    "collapsed": true
   },
   "outputs": [],
   "source": [
    "np.save(os.path.join(output_folder,'predicted_images_10sampling_stacked_mask_background_SkyGPT_4x4x4.npy'),predicted_images_batch_stacked)"
   ]
  },
  {
   "cell_type": "code",
   "execution_count": 6,
   "metadata": {
    "collapsed": true
   },
   "outputs": [],
   "source": [
    "predicted_images_batch_stacked = np.load(os.path.join(output_folder,'predicted_images_10sampling_stacked_mask_background_SkyGPT_4x4x4.npy'))\n",
    "best_match_img_index = np.load(os.path.join(output_folder,'best_match_img_index_based_on_cosine_similarity_among_10sampling_SkyGPT_4x4x4_block4_pool_features.npy'))"
   ]
  }
 ],
 "metadata": {
  "kernelspec": {
   "display_name": "Python 3",
   "language": "python",
   "name": "python3"
  },
  "language_info": {
   "codemirror_mode": {
    "name": "ipython",
    "version": 3
   },
   "file_extension": ".py",
   "mimetype": "text/x-python",
   "name": "python",
   "nbconvert_exporter": "python",
   "pygments_lexer": "ipython3",
   "version": "3.6.1"
  }
 },
 "nbformat": 4,
 "nbformat_minor": 5
}
