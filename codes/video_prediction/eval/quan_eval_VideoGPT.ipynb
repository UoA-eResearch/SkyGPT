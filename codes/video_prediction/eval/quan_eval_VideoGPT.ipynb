{
 "cells": [
  {
   "cell_type": "code",
   "execution_count": 32,
   "metadata": {
    "collapsed": true
   },
   "outputs": [],
   "source": [
    "# import libraries\n",
    "from tensorflow import keras\n",
    "import numpy as np\n",
    "import os\n",
    "import time\n",
    "import datetime\n",
    "import h5py\n",
    "import random\n",
    "from scipy import spatial\n",
    "import cv2\n",
    "import matplotlib.pyplot as plt\n",
    "%matplotlib inline"
   ]
  },
  {
   "cell_type": "code",
   "execution_count": 2,
   "metadata": {},
   "outputs": [
    {
     "name": "stdout",
     "output_type": "stream",
     "text": [
      "data_folder: /scratch/groups/abrandt/solar_forecasting/GAN_project_new/data\n",
      "data_path: /scratch/groups/abrandt/solar_forecasting/GAN_project_new/data/dataset_all/video_prediction_dataset.hdf5\n"
     ]
    }
   ],
   "source": [
    "# define the data location and load data\n",
    "cwd = os.getcwd()\n",
    "pardir = os.path.dirname(cwd)\n",
    "output_folder = os.path.join(pardir, \"results\", \"video_pred_quan_eval_results\")\n",
    "data_folder = os.path.join(pardir,\"data\")\n",
    "data_path = os.path.join(data_folder,'video_prediction_dataset.hdf5')\n",
    "\n",
    "print(\"data_folder:\", data_folder)\n",
    "print(\"data_path:\", data_path)"
   ]
  },
  {
   "cell_type": "code",
   "execution_count": 3,
   "metadata": {},
   "outputs": [
    {
     "name": "stdout",
     "output_type": "stream",
     "text": [
      "times_test.shape: (4467,)\n",
      "images_pred_test.shape: (4467, 8, 64, 64, 3)\n"
     ]
    }
   ],
   "source": [
    "# load testing data\n",
    "times_test = np.load(os.path.join(data_folder,\"times_curr_test.npy\"),allow_pickle=True)\n",
    "print(\"times_test.shape:\", times_test.shape)\n",
    "\n",
    "with h5py.File(data_path,'r') as f:\n",
    "\n",
    "    # read in the data\n",
    "    images_pred_test = f['test']['images_pred'][:,::2,:,:,:]\n",
    "\n",
    "print(\"images_pred_test.shape:\",images_pred_test.shape)"
   ]
  },
  {
   "cell_type": "code",
   "execution_count": 4,
   "metadata": {
    "collapsed": true
   },
   "outputs": [],
   "source": [
    "# mask out img background\n",
    "def mask_background(img): # put all background pixels to 0s\n",
    "    mask_img = img.copy()\n",
    "    for i in range(64):\n",
    "        for j in range(64):\n",
    "            if (i-30)**2+(j-30)**2>=31**2:\n",
    "                mask_img[:,:,i,j,:]=0\n",
    "    return mask_img"
   ]
  },
  {
   "cell_type": "code",
   "execution_count": 5,
   "metadata": {},
   "outputs": [
    {
     "name": "stdout",
     "output_type": "stream",
     "text": [
      "(4467, 8, 64, 64, 3)\n"
     ]
    }
   ],
   "source": [
    "# normalize image\n",
    "# mask out the background\n",
    "mask_images_pred_test = mask_background(images_pred_test)\n",
    "mask_images_pred_test = mask_images_pred_test.astype('float32')/255\n",
    "print(mask_images_pred_test.shape)"
   ]
  },
  {
   "cell_type": "code",
   "execution_count": 6,
   "metadata": {},
   "outputs": [
    {
     "name": "stdout",
     "output_type": "stream",
     "text": [
      "Model: \"vgg16\"\n",
      "_________________________________________________________________\n",
      "Layer (type)                 Output Shape              Param #   \n",
      "=================================================================\n",
      "input_1 (InputLayer)         [(None, 224, 224, 3)]     0         \n",
      "_________________________________________________________________\n",
      "block1_conv1 (Conv2D)        (None, 224, 224, 64)      1792      \n",
      "_________________________________________________________________\n",
      "block1_conv2 (Conv2D)        (None, 224, 224, 64)      36928     \n",
      "_________________________________________________________________\n",
      "block1_pool (MaxPooling2D)   (None, 112, 112, 64)      0         \n",
      "_________________________________________________________________\n",
      "block2_conv1 (Conv2D)        (None, 112, 112, 128)     73856     \n",
      "_________________________________________________________________\n",
      "block2_conv2 (Conv2D)        (None, 112, 112, 128)     147584    \n",
      "_________________________________________________________________\n",
      "block2_pool (MaxPooling2D)   (None, 56, 56, 128)       0         \n",
      "_________________________________________________________________\n",
      "block3_conv1 (Conv2D)        (None, 56, 56, 256)       295168    \n",
      "_________________________________________________________________\n",
      "block3_conv2 (Conv2D)        (None, 56, 56, 256)       590080    \n",
      "_________________________________________________________________\n",
      "block3_conv3 (Conv2D)        (None, 56, 56, 256)       590080    \n",
      "_________________________________________________________________\n",
      "block3_pool (MaxPooling2D)   (None, 28, 28, 256)       0         \n",
      "_________________________________________________________________\n",
      "block4_conv1 (Conv2D)        (None, 28, 28, 512)       1180160   \n",
      "_________________________________________________________________\n",
      "block4_conv2 (Conv2D)        (None, 28, 28, 512)       2359808   \n",
      "_________________________________________________________________\n",
      "block4_conv3 (Conv2D)        (None, 28, 28, 512)       2359808   \n",
      "_________________________________________________________________\n",
      "block4_pool (MaxPooling2D)   (None, 14, 14, 512)       0         \n",
      "_________________________________________________________________\n",
      "block5_conv1 (Conv2D)        (None, 14, 14, 512)       2359808   \n",
      "_________________________________________________________________\n",
      "block5_conv2 (Conv2D)        (None, 14, 14, 512)       2359808   \n",
      "_________________________________________________________________\n",
      "block5_conv3 (Conv2D)        (None, 14, 14, 512)       2359808   \n",
      "_________________________________________________________________\n",
      "block5_pool (MaxPooling2D)   (None, 7, 7, 512)         0         \n",
      "_________________________________________________________________\n",
      "flatten (Flatten)            (None, 25088)             0         \n",
      "_________________________________________________________________\n",
      "fc1 (Dense)                  (None, 4096)              102764544 \n",
      "_________________________________________________________________\n",
      "fc2 (Dense)                  (None, 4096)              16781312  \n",
      "_________________________________________________________________\n",
      "predictions (Dense)          (None, 1000)              4097000   \n",
      "=================================================================\n",
      "Total params: 138,357,544\n",
      "Trainable params: 138,357,544\n",
      "Non-trainable params: 0\n",
      "_________________________________________________________________\n"
     ]
    }
   ],
   "source": [
    "# calculate VGG cosine similarity\n",
    "vgg16 = keras.applications.VGG16(weights='imagenet',include_top=True,pooling='max',input_shape=(224,224,3))\n",
    "vgg16.summary()"
   ]
  },
  {
   "cell_type": "code",
   "execution_count": 7,
   "metadata": {
    "collapsed": true
   },
   "outputs": [],
   "source": [
    "basemodel=keras.Model(inputs=vgg16.input,outputs=keras.layers.Flatten()(vgg16.get_layer('block4_pool').output))"
   ]
  },
  {
   "cell_type": "code",
   "execution_count": 8,
   "metadata": {
    "collapsed": true
   },
   "outputs": [],
   "source": [
    "def get_feature_vector3(img):\n",
    "    img1 = img.reshape(-1,224,224,3)\n",
    "    feature_vector = np.zeros((img1.shape[0],basemodel.output.shape[-1]))\n",
    "    batch_size = 100\n",
    "    num_samples = img1.shape[0]\n",
    "    indices = np.arange(num_samples)\n",
    "    for i in range(int(num_samples / batch_size) + 1):\n",
    "        start_idx = (i * batch_size) % num_samples\n",
    "        idxs = indices[start_idx:start_idx + batch_size]\n",
    "        feature_vector[idxs] = basemodel.predict(img1[idxs])\n",
    "    feature_vector=feature_vector.reshape((img.shape[0],img.shape[1],basemodel.output.shape[-1]))\n",
    "    return feature_vector"
   ]
  },
  {
   "cell_type": "code",
   "execution_count": 9,
   "metadata": {
    "collapsed": true
   },
   "outputs": [],
   "source": [
    "mask_images_pred_test_resized = np.zeros((images_pred_test.shape[0],images_pred_test.shape[1],224,224,3))\n",
    "for i in range(images_pred_test.shape[0]):\n",
    "    for j in range(images_pred_test.shape[1]):\n",
    "        mask_images_pred_test_resized[i,j] = cv2.resize(mask_images_pred_test[i,j],(224,224))\n",
    "feature_vector_gt_test = (get_feature_vector3(mask_images_pred_test_resized*255)).astype('float32')"
   ]
  },
  {
   "cell_type": "code",
   "execution_count": 10,
   "metadata": {
    "collapsed": true
   },
   "outputs": [],
   "source": [
    "def calculate_cosine_similarity(vector1, vector2):\n",
    "    cosine_similarity = 1-spatial.distance.cosine(vector1,vector2)\n",
    "    return cosine_similarity"
   ]
  },
  {
   "cell_type": "code",
   "execution_count": 11,
   "metadata": {},
   "outputs": [
    {
     "data": {
      "text/plain": [
       "dtype('float32')"
      ]
     },
     "execution_count": 11,
     "metadata": {},
     "output_type": "execute_result"
    }
   ],
   "source": [
    "feature_vector_gt_test.dtype"
   ]
  },
  {
   "cell_type": "markdown",
   "metadata": {},
   "source": [
    "### Evaluation of model performance quantitatively"
   ]
  },
  {
   "cell_type": "markdown",
   "metadata": {},
   "source": [
    "### VideoGPT"
   ]
  },
  {
   "cell_type": "code",
   "execution_count": 12,
   "metadata": {
    "collapsed": true
   },
   "outputs": [],
   "source": [
    "# video prediction models for predicted images\n",
    "def loadData(samp_num, vp_model, vp_model_folder):\n",
    "\n",
    "    print(\"vp_model_folder:\", vp_model_folder)\n",
    "\n",
    "    # load predicted images\n",
    "    predicted_images = np.load(os.path.join(vp_model_folder,\"sample_\" + str(samp_num) + \".npy\"))[:,8:, :, :, :]\n",
    "    predicted_images = mask_background(predicted_images.astype('float32'))\n",
    "    \n",
    "    predicted_images_resized = np.zeros((predicted_images.shape[0],predicted_images.shape[1],224,224,3))\n",
    "    for i in range(predicted_images.shape[0]):\n",
    "        for j in range(predicted_images.shape[1]):\n",
    "            predicted_images_resized[i,j] = cv2.resize(predicted_images[i,j],(224,224))\n",
    "    feature_vector_pred_test = (get_feature_vector3(predicted_images_resized*255)).astype('float32')\n",
    "    print(\"predicted_images.shape:\",predicted_images.shape)\n",
    "    print(\"feature_vector_pred_test.shape:\",feature_vector_pred_test.shape)\n",
    "    \n",
    "    return predicted_images, feature_vector_pred_test"
   ]
  },
  {
   "cell_type": "code",
   "execution_count": 24,
   "metadata": {
    "collapsed": true
   },
   "outputs": [],
   "source": [
    "from tqdm.notebook import tqdm\n",
    "\n",
    "def metrics_batch(predicted_images, images_pred_test, feature_vector_gt, feature_vector_pred):\n",
    "    mse_per_frame = np.mean(\n",
    "        np.min(\n",
    "            np.sum(\n",
    "                (predicted_images-images_pred_test[None])**2,\n",
    "                axis=(3,4,5)\n",
    "                ),\n",
    "            axis=0),\n",
    "        axis=0\n",
    "    )\n",
    "    mae_per_frame = np.mean(\n",
    "        np.min(\n",
    "            np.sum(\n",
    "                np.abs(predicted_images-images_pred_test[None]),\n",
    "                axis=(3,4,5)\n",
    "            ),\n",
    "        axis=0),\n",
    "    axis=0)\n",
    "    \n",
    "    \n",
    "    cosine_similarity_per_frame = np.zeros((predicted_images.shape[0],images_pred_test.shape[0],images_pred_test.shape[1]))\n",
    "    \n",
    "    for i in range(images_pred_test.shape[0]):\n",
    "        for j in range(images_pred_test.shape[1]):\n",
    "            for k in range(predicted_images.shape[0]):\n",
    "                cosine_similarity_per_frame[k,i,j] = calculate_cosine_similarity(feature_vector_gt[i,j],feature_vector_pred[k,i,j])\n",
    "    \n",
    "\n",
    "    \n",
    "    cosine_similarity_on_time_step = np.mean(np.max(cosine_similarity_per_frame, axis=0),axis=0)\n",
    "    \n",
    "    # take mean across all time stamps\n",
    "    cosine_similarity_per_frame_mean = np.mean(cosine_similarity_per_frame, axis=2)\n",
    "    \n",
    "    # find the best match across all 10 samplings and take the mean of every sample\n",
    "    cosine_similarity_per_frame_mean = np.mean(np.max(cosine_similarity_per_frame_mean,axis=0),axis=0)\n",
    "    \n",
    "    # find the index of the best/worst match across 10 samplings for every sample\n",
    "    best_match_img_index = np.argmax(cosine_similarity_per_frame_mean,axis=0)\n",
    "    worst_match_img_index = np.argmin(cosine_similarity_per_frame_mean,axis=0)\n",
    "    \n",
    "    np.save(os.path.join(output_folder,'VideoGPT_4x4x4_mse_min'),mse_per_frame)\n",
    "    np.save(os.path.join(output_folder,'VideoGPT_4x4x4_mae_min'),mae_per_frame)\n",
    "    np.save(os.path.join(output_folder,'VideoGPT_4x4x4_cosine_similarity_max_block4pool'),cosine_similarity_on_time_step)\n",
    "    np.save(os.path.join(output_folder,'best_match_img_index_based_on_cosine_similarity_among_10sampling_VideoGPT_4x4x4_block4_pool_features.npy'), best_match_img_index)\n",
    "    np.save(os.path.join(output_folder,'worst_match_img_index_based_on_cosine_similarity_among_10sampling_VideoGPT_4x4x4_block4_pool_features.npy'), worst_match_img_index)\n",
    "    \n",
    "    for j in range(images_pred_test.shape[1]):\n",
    "        print('-'*50)\n",
    "        print('evaluation for {0} min'.format(j*2+1))\n",
    "        print('mse (frame-wise): ', mse_per_frame[j])\n",
    "        print('mae (frame-wise): ', mae_per_frame[j])\n",
    "        print('cosine_similarity: ', cosine_similarity_on_time_step[j])\n",
    "        \n",
    "    print(\"*\"*50)\n",
    "    print('overall performance:')\n",
    "    print('mse (frame-wise): ', np.mean(mse_per_frame))\n",
    "    print('mae (frame-wise): ', np.mean(mae_per_frame))\n",
    "    print('cosine_similarity: ', np.mean(cosine_similarity_on_time_step))\n",
    "    \n",
    "    return cosine_similarity_per_frame, best_match_img_index, worst_match_img_index"
   ]
  },
  {
   "cell_type": "code",
   "execution_count": 16,
   "metadata": {
    "scrolled": true
   },
   "outputs": [
    {
     "name": "stdout",
     "output_type": "stream",
     "text": [
      "(4467, 8, 64, 64, 3)\n",
      "Sample #:  0\n",
      "vp_model_folder: /scratch/groups/abrandt/solar_forecasting/GAN_project_new/models/VideoGPT/inference/VideoGPT_full_2min\n",
      "predicted_images.shape: (4467, 8, 64, 64, 3)\n",
      "feature_vector_pred_test.shape: (4467, 8, 100352)\n",
      "Sample #:  1\n",
      "vp_model_folder: /scratch/groups/abrandt/solar_forecasting/GAN_project_new/models/VideoGPT/inference/VideoGPT_full_2min\n",
      "predicted_images.shape: (4467, 8, 64, 64, 3)\n",
      "feature_vector_pred_test.shape: (4467, 8, 100352)\n",
      "Sample #:  2\n",
      "vp_model_folder: /scratch/groups/abrandt/solar_forecasting/GAN_project_new/models/VideoGPT/inference/VideoGPT_full_2min\n",
      "predicted_images.shape: (4467, 8, 64, 64, 3)\n",
      "feature_vector_pred_test.shape: (4467, 8, 100352)\n",
      "Sample #:  3\n",
      "vp_model_folder: /scratch/groups/abrandt/solar_forecasting/GAN_project_new/models/VideoGPT/inference/VideoGPT_full_2min\n",
      "predicted_images.shape: (4467, 8, 64, 64, 3)\n",
      "feature_vector_pred_test.shape: (4467, 8, 100352)\n",
      "Sample #:  4\n",
      "vp_model_folder: /scratch/groups/abrandt/solar_forecasting/GAN_project_new/models/VideoGPT/inference/VideoGPT_full_2min\n",
      "predicted_images.shape: (4467, 8, 64, 64, 3)\n",
      "feature_vector_pred_test.shape: (4467, 8, 100352)\n",
      "Sample #:  5\n",
      "vp_model_folder: /scratch/groups/abrandt/solar_forecasting/GAN_project_new/models/VideoGPT/inference/VideoGPT_full_2min\n",
      "predicted_images.shape: (4467, 8, 64, 64, 3)\n",
      "feature_vector_pred_test.shape: (4467, 8, 100352)\n",
      "Sample #:  6\n",
      "vp_model_folder: /scratch/groups/abrandt/solar_forecasting/GAN_project_new/models/VideoGPT/inference/VideoGPT_full_2min\n",
      "predicted_images.shape: (4467, 8, 64, 64, 3)\n",
      "feature_vector_pred_test.shape: (4467, 8, 100352)\n",
      "Sample #:  7\n",
      "vp_model_folder: /scratch/groups/abrandt/solar_forecasting/GAN_project_new/models/VideoGPT/inference/VideoGPT_full_2min\n",
      "predicted_images.shape: (4467, 8, 64, 64, 3)\n",
      "feature_vector_pred_test.shape: (4467, 8, 100352)\n",
      "Sample #:  8\n",
      "vp_model_folder: /scratch/groups/abrandt/solar_forecasting/GAN_project_new/models/VideoGPT/inference/VideoGPT_full_2min\n",
      "predicted_images.shape: (4467, 8, 64, 64, 3)\n",
      "feature_vector_pred_test.shape: (4467, 8, 100352)\n",
      "Sample #:  9\n",
      "vp_model_folder: /scratch/groups/abrandt/solar_forecasting/GAN_project_new/models/VideoGPT/inference/VideoGPT_full_2min\n",
      "predicted_images.shape: (4467, 8, 64, 64, 3)\n",
      "feature_vector_pred_test.shape: (4467, 8, 100352)\n"
     ]
    }
   ],
   "source": [
    "#loop over all samples\n",
    "samp_array  = [0, 1, 2, 3, 4, 5, 6, 7, 8, 9]\n",
    "print(images_pred_test.shape)\n",
    "\n",
    "predicted_images_batch = []\n",
    "feature_vector_pred_test_batch = []\n",
    "for samp_num in samp_array:\n",
    "    vp_model = \"VideoGPT_2min_4x4x4_sample_\" + str(samp_num)\n",
    "    vp_model_folder = '/scratch/groups/abrandt/solar_forecasting/GAN_project_new/models/VideoGPT/inference/VideoGPT_full_2min'\n",
    "    print('Sample #: ', samp_num)\n",
    "    predicted_images, feature_vector_pred_test = loadData(samp_num, vp_model, vp_model_folder)\n",
    "    predicted_images_batch.append(predicted_images.astype('float32'))\n",
    "    feature_vector_pred_test_batch.append(feature_vector_pred_test)"
   ]
  },
  {
   "cell_type": "code",
   "execution_count": 25,
   "metadata": {
    "scrolled": true
   },
   "outputs": [
    {
     "name": "stdout",
     "output_type": "stream",
     "text": [
      "--------------------------------------------------\n",
      "evaluation for 1 min\n",
      "mse (frame-wise):  27.720184\n",
      "mae (frame-wise):  302.92438\n",
      "ssim:  0.8823216264631143\n",
      "cosine_similarity:  0.7624971956141395\n",
      "--------------------------------------------------\n",
      "evaluation for 3 min\n",
      "mse (frame-wise):  38.532486\n",
      "mae (frame-wise):  362.92456\n",
      "ssim:  0.8556056885090755\n",
      "cosine_similarity:  0.7438174404632546\n",
      "--------------------------------------------------\n",
      "evaluation for 5 min\n",
      "mse (frame-wise):  45.655457\n",
      "mae (frame-wise):  401.26743\n",
      "ssim:  0.8402210531885606\n",
      "cosine_similarity:  0.7313974852633471\n",
      "--------------------------------------------------\n",
      "evaluation for 7 min\n",
      "mse (frame-wise):  50.729412\n",
      "mae (frame-wise):  429.15485\n",
      "ssim:  0.8306120032148608\n",
      "cosine_similarity:  0.7222640416166888\n",
      "--------------------------------------------------\n",
      "evaluation for 9 min\n",
      "mse (frame-wise):  54.91339\n",
      "mae (frame-wise):  449.88254\n",
      "ssim:  0.8234377169121144\n",
      "cosine_similarity:  0.7146154165214571\n",
      "--------------------------------------------------\n",
      "evaluation for 11 min\n",
      "mse (frame-wise):  59.331284\n",
      "mae (frame-wise):  470.97934\n",
      "ssim:  0.8160126031739074\n",
      "cosine_similarity:  0.7093112410275707\n",
      "--------------------------------------------------\n",
      "evaluation for 13 min\n",
      "mse (frame-wise):  62.12421\n",
      "mae (frame-wise):  485.22055\n",
      "ssim:  0.8109002576934985\n",
      "cosine_similarity:  0.7054192297459182\n",
      "--------------------------------------------------\n",
      "evaluation for 15 min\n",
      "mse (frame-wise):  65.20918\n",
      "mae (frame-wise):  500.43396\n",
      "ssim:  0.8067618726228243\n",
      "cosine_similarity:  0.7010948255621455\n",
      "**************************************************\n",
      "overall performance:\n",
      "mse (frame-wise):  50.52695\n",
      "mae (frame-wise):  425.34845\n",
      "ssim:  0.8332341027222445\n",
      "cosine_similarity:  0.7238021094768152\n"
     ]
    }
   ],
   "source": [
    "cosine_similarity, best_match_img_index, worst_match_img_index = metrics_batch(np.stack(predicted_images_batch), mask_images_pred_test, feature_vector_gt_test, np.stack(feature_vector_pred_test_batch))"
   ]
  },
  {
   "cell_type": "code",
   "execution_count": 26,
   "metadata": {
    "collapsed": true
   },
   "outputs": [],
   "source": [
    "predicted_images_batch_stacked = np.stack(predicted_images_batch)\n",
    "feature_vector_pred_test_batch_stacked = np.stack(feature_vector_pred_test_batch)"
   ]
  },
  {
   "cell_type": "code",
   "execution_count": null,
   "metadata": {
    "collapsed": true
   },
   "outputs": [],
   "source": [
    "np.save(os.path.join(output_folder,'predicted_images_10sampling_stacked_mask_background_VideoGPT_4x4x4.npy'),predicted_images_batch_stacked)"
   ]
  }
 ],
 "metadata": {
  "kernelspec": {
   "display_name": "Python 3",
   "language": "python",
   "name": "python3"
  },
  "language_info": {
   "codemirror_mode": {
    "name": "ipython",
    "version": 3
   },
   "file_extension": ".py",
   "mimetype": "text/x-python",
   "name": "python",
   "nbconvert_exporter": "python",
   "pygments_lexer": "ipython3",
   "version": "3.6.1"
  }
 },
 "nbformat": 4,
 "nbformat_minor": 5
}
